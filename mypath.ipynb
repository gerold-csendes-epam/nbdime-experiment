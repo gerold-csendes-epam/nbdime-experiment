{
 "metadata": {
  "language_info": {
   "codemirror_mode": {
    "name": "ipython",
    "version": 3
   },
   "file_extension": ".py",
   "mimetype": "text/x-python",
   "name": "python",
   "nbconvert_exporter": "python",
   "pygments_lexer": "ipython3",
   "version": "3.8.6-final"
  },
  "orig_nbformat": 2,
  "kernelspec": {
   "name": "python3",
   "display_name": "Python 3",
   "language": "python"
  }
 },
 "nbformat": 4,
 "nbformat_minor": 2,
 "cells": [
  {
   "cell_type": "code",
   "execution_count": 2,
   "metadata": {},
   "outputs": [],
   "source": [
    "import pathlib\n",
    "import sys"
   ]
  },
  {
   "cell_type": "code",
   "execution_count": 16,
   "metadata": {},
   "outputs": [
    {
     "output_type": "execute_result",
     "data": {
      "text/plain": [
       "['c:\\\\Users\\\\Gerold_Csendes\\\\Desktop\\\\study\\\\nbdime-experiment',\n",
       " 'c:\\\\Users\\\\Gerold_Csendes\\\\.vscode\\\\extensions\\\\ms-toolsai.jupyter-2020.12.414227025\\\\pythonFiles',\n",
       " 'c:\\\\Users\\\\Gerold_Csendes\\\\.vscode\\\\extensions\\\\ms-toolsai.jupyter-2020.12.414227025\\\\pythonFiles\\\\lib\\\\python',\n",
       " 'C:\\\\Users\\\\Gerold_Csendes\\\\winPython\\\\WPy64-3860\\\\python-3.8.6.amd64\\\\python38.zip',\n",
       " 'C:\\\\Users\\\\Gerold_Csendes\\\\winPython\\\\WPy64-3860\\\\python-3.8.6.amd64\\\\DLLs',\n",
       " 'C:\\\\Users\\\\Gerold_Csendes\\\\winPython\\\\WPy64-3860\\\\python-3.8.6.amd64\\\\lib',\n",
       " 'C:\\\\Users\\\\Gerold_Csendes\\\\winPython\\\\WPy64-3860\\\\python-3.8.6.amd64',\n",
       " 'C:\\\\Users\\\\Gerold_Csendes\\\\envs\\\\nbdime',\n",
       " '',\n",
       " 'C:\\\\Users\\\\Gerold_Csendes\\\\envs\\\\nbdime\\\\lib\\\\site-packages',\n",
       " 'C:\\\\Users\\\\Gerold_Csendes\\\\envs\\\\nbdime\\\\lib\\\\site-packages\\\\win32',\n",
       " 'C:\\\\Users\\\\Gerold_Csendes\\\\envs\\\\nbdime\\\\lib\\\\site-packages\\\\win32\\\\lib',\n",
       " 'C:\\\\Users\\\\Gerold_Csendes\\\\envs\\\\nbdime\\\\lib\\\\site-packages\\\\Pythonwin',\n",
       " 'C:\\\\Users\\\\Gerold_Csendes\\\\envs\\\\nbdime\\\\lib\\\\site-packages\\\\IPython\\\\extensions',\n",
       " 'C:\\\\Users\\\\Gerold_Csendes\\\\.ipython']"
      ]
     },
     "metadata": {},
     "execution_count": 16
    }
   ],
   "source": [
    "sys.path"
   ]
  },
  {
   "cell_type": "code",
   "execution_count": 17,
   "metadata": {},
   "outputs": [
    {
     "output_type": "stream",
     "name": "stdout",
     "text": [
      "c:\\Users\\Gerold_Csendes\\Desktop\\study\\nbdime-experiment\n"
     ]
    }
   ],
   "source": [
    "path = pathlib.Path().cwd()\n",
    "print(path)"
   ]
  },
  {
   "cell_type": "code",
   "execution_count": 18,
   "metadata": {},
   "outputs": [
    {
     "output_type": "stream",
     "name": "stdout",
     "text": [
      "c:\\Users\\Gerold_Csendes\\Desktop\\study\n"
     ]
    }
   ],
   "source": [
    "print(path.parent)"
   ]
  },
  {
   "cell_type": "code",
   "execution_count": 13,
   "metadata": {},
   "outputs": [
    {
     "output_type": "stream",
     "name": "stdout",
     "text": [
      "[WindowsPath('c:/Users/Gerold_Csendes/Desktop/study/nbdime-experiment/.git'), WindowsPath('c:/Users/Gerold_Csendes/Desktop/study/nbdime-experiment/.gitignore'), WindowsPath('c:/Users/Gerold_Csendes/Desktop/study/nbdime-experiment/.vscode'), WindowsPath('c:/Users/Gerold_Csendes/Desktop/study/nbdime-experiment/mypath.ipynb'), WindowsPath('c:/Users/Gerold_Csendes/Desktop/study/nbdime-experiment/README.md')]\n"
     ]
    }
   ],
   "source": [
    "# show content of cwd\n",
    "content = [element for element in path.glob(\"*\")]\n",
    "print(content)"
   ]
  }
 ]
}