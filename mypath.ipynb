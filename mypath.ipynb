{
 "cells": [
  {
   "cell_type": "code",
   "execution_count": 2,
   "metadata": {},
   "outputs": [],
   "source": [
    "import pathlib\n",
    "import sys"
   ]
  },
  {
   "cell_type": "code",
   "execution_count": 16,
   "metadata": {},
   "outputs": [
    {
     "data": {
      "text/plain": [
       "['c:\\\\Users\\\\Gerold_Csendes\\\\Desktop\\\\study\\\\nbdime-experiment',\n",
       " 'c:\\\\Users\\\\Gerold_Csendes\\\\.vscode\\\\extensions\\\\ms-toolsai.jupyter-2020.12.414227025\\\\pythonFiles',\n",
       " 'c:\\\\Users\\\\Gerold_Csendes\\\\.vscode\\\\extensions\\\\ms-toolsai.jupyter-2020.12.414227025\\\\pythonFiles\\\\lib\\\\python',\n",
       " 'C:\\\\Users\\\\Gerold_Csendes\\\\winPython\\\\WPy64-3860\\\\python-3.8.6.amd64\\\\python38.zip',\n",
       " 'C:\\\\Users\\\\Gerold_Csendes\\\\winPython\\\\WPy64-3860\\\\python-3.8.6.amd64\\\\DLLs',\n",
       " 'C:\\\\Users\\\\Gerold_Csendes\\\\winPython\\\\WPy64-3860\\\\python-3.8.6.amd64\\\\lib',\n",
       " 'C:\\\\Users\\\\Gerold_Csendes\\\\winPython\\\\WPy64-3860\\\\python-3.8.6.amd64',\n",
       " 'C:\\\\Users\\\\Gerold_Csendes\\\\envs\\\\nbdime',\n",
       " '',\n",
       " 'C:\\\\Users\\\\Gerold_Csendes\\\\envs\\\\nbdime\\\\lib\\\\site-packages',\n",
       " 'C:\\\\Users\\\\Gerold_Csendes\\\\envs\\\\nbdime\\\\lib\\\\site-packages\\\\win32',\n",
       " 'C:\\\\Users\\\\Gerold_Csendes\\\\envs\\\\nbdime\\\\lib\\\\site-packages\\\\win32\\\\lib',\n",
       " 'C:\\\\Users\\\\Gerold_Csendes\\\\envs\\\\nbdime\\\\lib\\\\site-packages\\\\Pythonwin',\n",
       " 'C:\\\\Users\\\\Gerold_Csendes\\\\envs\\\\nbdime\\\\lib\\\\site-packages\\\\IPython\\\\extensions',\n",
       " 'C:\\\\Users\\\\Gerold_Csendes\\\\.ipython']"
      ]
     },
     "execution_count": 16,
     "metadata": {},
     "output_type": "execute_result"
    }
   ],
   "source": [
    "sys.path"
   ]
  },
  {
   "cell_type": "code",
   "execution_count": null,
   "metadata": {},
   "outputs": [
    {
     "name": "stdout",
     "output_type": "stream",
     "text": [
      "c:\\Users\\Gerold_Csendes\\Desktop\\study\n",
      "c:\\Users\\Gerold_Csendes\\Desktop\\study\\nbdime-experiment\n"
     ]
    }
   ],
   "source": [
    "path = pathlib.Path().cwd()\n",
    "print(path)\n",
    "print(path.parent)"
   ]
  },
  {
   "cell_type": "code",
   "execution_count": 18,
   "metadata": {},
   "outputs": [
    {
     "name": "stdout",
     "output_type": "stream",
     "text": [
      "c:\\Users\\Gerold_Csendes\\Desktop\\study\n"
     ]
    }
   ],
   "source": [
    "print(path.parent)"
   ]
  },
  {
   "cell_type": "code",
   "execution_count": 13,
   "metadata": {},
   "outputs": [
    {
     "name": "stdout",
     "output_type": "stream",
     "text": [
      "[WindowsPath('c:/Users/Gerold_Csendes/Desktop/study/nbdime-experiment/.git'), WindowsPath('c:/Users/Gerold_Csendes/Desktop/study/nbdime-experiment/.gitignore'), WindowsPath('c:/Users/Gerold_Csendes/Desktop/study/nbdime-experiment/.vscode'), WindowsPath('c:/Users/Gerold_Csendes/Desktop/study/nbdime-experiment/mypath.ipynb'), WindowsPath('c:/Users/Gerold_Csendes/Desktop/study/nbdime-experiment/README.md')]\n"
     ]
    }
   ],
   "source": [
    "# show content of cwd\n",
    "content = [element for element in path.glob(\"*\")]\n",
    "print(content)"
   ]
  }
 ],
 "metadata": {
  "kernelspec": {
   "display_name": "Python 3",
   "language": "python",
   "name": "python3"
  },
  "language_info": {
   "codemirror_mode": {
    "name": "ipython",
    "version": 3
   },
   "file_extension": ".py",
   "mimetype": "text/x-python",
   "name": "python",
   "nbconvert_exporter": "python",
   "pygments_lexer": "ipython3",
   "version": "3.8.6-final"
  }
 },
 "nbformat": 4,
 "nbformat_minor": 2
}
