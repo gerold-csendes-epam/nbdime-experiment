{
 "metadata": {
  "language_info": {
   "codemirror_mode": {
    "name": "ipython",
    "version": 3
   },
   "file_extension": ".py",
   "mimetype": "text/x-python",
   "name": "python",
   "nbconvert_exporter": "python",
   "pygments_lexer": "ipython3",
   "version": "3.8.6-final"
  },
  "orig_nbformat": 2,
  "kernelspec": {
   "name": "python3",
   "display_name": "Python 3",
   "language": "python"
  }
 },
 "nbformat": 4,
 "nbformat_minor": 2,
 "cells": [
  {
   "cell_type": "code",
   "execution_count": 2,
   "metadata": {},
   "outputs": [],
   "source": [
    "import pathlib"
   ]
  },
  {
   "cell_type": "code",
   "execution_count": 10,
   "metadata": {},
   "outputs": [
    {
     "output_type": "stream",
     "name": "stdout",
     "text": [
      "c:\\Users\\Gerold_Csendes\\Desktop\\study\nc:\\Users\\Gerold_Csendes\\Desktop\\study\\nbdime-experiment\n"
     ]
    }
   ],
   "source": [
    "path = pathlib.Path().cwd()\n",
    "print(path)\n",
    "print(path.parent)"
   ]
  },
  {
   "cell_type": "code",
   "execution_count": 6,
   "metadata": {},
   "outputs": [
    {
     "output_type": "execute_result",
     "data": {
      "text/plain": [
       "False"
      ]
     },
     "metadata": {},
     "execution_count": 6
    }
   ],
   "source": [
    "path.is_file()"
   ]
  },
  {
   "cell_type": "code",
   "execution_count": 13,
   "metadata": {},
   "outputs": [
    {
     "output_type": "stream",
     "name": "stdout",
     "text": [
      "[WindowsPath('c:/Users/Gerold_Csendes/Desktop/study/nbdime-experiment/.git'), WindowsPath('c:/Users/Gerold_Csendes/Desktop/study/nbdime-experiment/.gitignore'), WindowsPath('c:/Users/Gerold_Csendes/Desktop/study/nbdime-experiment/.vscode'), WindowsPath('c:/Users/Gerold_Csendes/Desktop/study/nbdime-experiment/mypath.ipynb'), WindowsPath('c:/Users/Gerold_Csendes/Desktop/study/nbdime-experiment/README.md')]\n"
     ]
    }
   ],
   "source": [
    "# show content of cwd\n",
    "content = [element for element in path.glob(\"*\")]\n",
    "print(content)"
   ]
  }
 ]
}